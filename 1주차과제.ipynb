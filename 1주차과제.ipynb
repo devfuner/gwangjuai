{
  "nbformat": 4,
  "nbformat_minor": 0,
  "metadata": {
    "colab": {
      "name": "1주차과제.ipynb",
      "provenance": [],
      "authorship_tag": "ABX9TyM425Mb5IhuA3WyyTl0F15B",
      "include_colab_link": true
    },
    "kernelspec": {
      "name": "python3",
      "display_name": "Python 3"
    }
  },
  "cells": [
    {
      "cell_type": "markdown",
      "metadata": {
        "id": "view-in-github",
        "colab_type": "text"
      },
      "source": [
        "<a href=\"https://colab.research.google.com/github/devfuner/gwangjuai/blob/master/1%EC%A3%BC%EC%B0%A8%EA%B3%BC%EC%A0%9C.ipynb\" target=\"_parent\"><img src=\"https://colab.research.google.com/assets/colab-badge.svg\" alt=\"Open In Colab\"/></a>"
      ]
    },
    {
      "cell_type": "markdown",
      "metadata": {
        "id": "SXfl1ZlYXTrD",
        "colab_type": "text"
      },
      "source": [
        "# 광주 인공지능 사관학교 1주차 과제\n",
        "\n",
        "# Apple Siri\n",
        "애플의 음성인식 비서\n",
        "\n",
        "# Google Assistant\n",
        "구글의 음성인식 비서\n",
        "\n",
        "# Google Translate\n",
        "구글의 번역 서비스\n",
        "\n",
        "# Google Autodraw\n",
        "구글의 그림 그리기 서비스\n",
        "\n",
        "# Amazon Alexa\n",
        "아마존의 인공지능 플랫폼\n",
        "\n",
        "# Nest Hub Max\n",
        "얼굴 인식 AI스피커\n",
        "\n",
        "# 듀플렉스\n",
        "전화예약 서비스\n",
        "\n",
        "# 삼성 빅스비\n",
        "삼성의 인공지능 비서\u001c\n",
        "\n",
        "# 네이버 파파고\n",
        "네이버의 인공신경망 번역 서비스\n"
      ]
    }
  ]
}